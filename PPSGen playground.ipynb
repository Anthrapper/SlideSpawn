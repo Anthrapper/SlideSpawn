{
 "cells": [
  {
   "cell_type": "code",
   "execution_count": null,
   "metadata": {},
   "outputs": [],
   "source": [
    "from util import cosine, comm, getXnY\n",
    "from sklearn.svm import SVR"
   ]
  },
  {
   "cell_type": "code",
   "execution_count": null,
   "metadata": {},
   "outputs": [],
   "source": [
    "X = []\n",
    "Y = []\n",
    "for i in range(1,102):\n",
    "    try:\n",
    "        print(\"Working on paper no. \",i)\n",
    "        x = getXnY(i)\n",
    "        for i in range(len(x)):\n",
    "            X.append(x[i])\n",
    "            #above code is REALLY REALLY inefficient. make it efficient by using concatenate in np array.\n",
    "            Y.append(y[i])\n",
    "    except:\n",
    "        print(\"Some shit went down with paper no. \",i)"
   ]
  },
  {
   "cell_type": "code",
   "execution_count": null,
   "metadata": {},
   "outputs": [],
   "source": [
    "clf = SVR(gamma=0.0001, C=1.0, epsilon=0.2)\n",
    "clf.fit(X, Y)"
   ]
  },
  {
   "cell_type": "code",
   "execution_count": null,
   "metadata": {},
   "outputs": [],
   "source": [
    "pred_res = clf.predict(X)\n",
    "for i in range(len(pred_res)):\n",
    "    print(pred_res[i],Y[i])"
   ]
  },
  {
   "cell_type": "code",
   "execution_count": null,
   "metadata": {},
   "outputs": [],
   "source": [
    "clf.score(X,Y)"
   ]
  },
  {
   "cell_type": "markdown",
   "metadata": {},
   "source": [
    "Store the above model.\n",
    "\n",
    "get some test files from dataset.\n",
    "\n",
    "create the feature vector corresponding to that file using functions from \"util.py\".\n",
    "\n",
    "get Weights corresponding to each sentence, write ILP code to finally output a pptx file. \n",
    "\n",
    "Do all this in test.py file."
   ]
  },
  {
   "cell_type": "code",
   "execution_count": null,
   "metadata": {},
   "outputs": [],
   "source": []
  },
  {
   "cell_type": "markdown",
   "metadata": {},
   "source": [
    "The code that lies below was used to generate text files corresponding to the pdf documents.\n",
    "This code can be taken as a reference while coding the \"test.py\" file that will take in a pdf file and generate a pptx file. "
   ]
  },
  {
   "cell_type": "code",
   "execution_count": null,
   "metadata": {},
   "outputs": [],
   "source": [
    "import pdfx"
   ]
  },
  {
   "cell_type": "code",
   "execution_count": null,
   "metadata": {},
   "outputs": [],
   "source": [
    "pdf = pdfx.PDFx('PPSGen.pdf')"
   ]
  },
  {
   "cell_type": "code",
   "execution_count": null,
   "metadata": {},
   "outputs": [],
   "source": [
    "from os import listdir\n",
    "from os.path import isfile, join\n",
    "import subprocess\n",
    "\n",
    "dest = '/Users/kk3799/Desktop/BTP 11.49.50 AM/Dataset'\n",
    "c = 1\n",
    "for i in range(1,8):\n",
    "    mypath = \"/Users/kk3799/Desktop/BTP 11.49.50 AM/PPSGen/Dataset/uv-\"+str(i)\n",
    "    no_of_folders = len(listdir(mypath))\n",
    "    for k in range(no_of_folders):\n",
    "        mypath = join(\"/Users/kk3799/Desktop/BTP 11.49.50 AM/PPSGen/Dataset/uv-\"+str(i),str(k))\n",
    "        onlyfiles = [f for f in listdir(mypath) if isfile(join(mypath, f))]\n",
    "        for j in onlyfiles:\n",
    "            bashCommand = 'mkdir '+ join(dest,str(c)) \n",
    "            process = subprocess.Popen(bashCommand.split(), stdout=subprocess.PIPE)\n",
    "            output, error = process.communicate()\n",
    "            if j.endswith('.txt'):\n",
    "                bashCommand = \"mv \"+ str(j) + join(join(dest, str(c)),str(c)+'.txt')\n",
    "                process = subprocess.Popen(bashCommand.split(), stdout=subprocess.PIPE)\n",
    "                output, error = process.communicate()\n",
    "            else:\n",
    "                bashCommand = \"pdf2txt.py \"+ str(j) +\" > \"+str(c)+\".txt\"\n",
    "                process = subprocess.Popen(bashCommand.split(), stdout=subprocess.PIPE)\n",
    "                output, error = process.communicate()\n",
    "            c+=1\n",
    "    print(c, \"done\")"
   ]
  },
  {
   "cell_type": "code",
   "execution_count": null,
   "metadata": {},
   "outputs": [],
   "source": []
  },
  {
   "cell_type": "code",
   "execution_count": null,
   "metadata": {},
   "outputs": [],
   "source": [
    "X = []\n",
    "Y = []\n",
    "for i in range(1,102):\n",
    "    try:\n",
    "        print(i)\n",
    "        x = getXnY(i,false)\n",
    "        for i in range(len(x)):\n",
    "            X.append(x[i])\n",
    "            #Y.append(y[i])\n",
    "    except:\n",
    "        print(i,i)"
   ]
  },
  {
   "cell_type": "code",
   "execution_count": null,
   "metadata": {},
   "outputs": [],
   "source": [
    "xx= getXnY(2,False)"
   ]
  },
  {
   "cell_type": "code",
   "execution_count": null,
   "metadata": {},
   "outputs": [],
   "source": [
    "print(len(xx))"
   ]
  },
  {
   "cell_type": "code",
   "execution_count": null,
   "metadata": {},
   "outputs": [],
   "source": [
    "xddf = \"\"\"7\n",
    "10\n",
    "14\n",
    "16\n",
    "21\n",
    "22\n",
    "23\n",
    "30\n",
    "31\n",
    "32\n",
    "34\n",
    "38\n",
    "44\n",
    "45\n",
    "46\n",
    "48\n",
    "50\n",
    "51\n",
    "54\n",
    "57\n",
    "58\n",
    "59\n",
    "60\n",
    "61\n",
    "63\n",
    "64\n",
    "72\n",
    "75\n",
    "76\n",
    "80\n",
    "83\n",
    "86\n",
    "87\n",
    "88\n",
    "91\n",
    "96\n",
    "98\"\"\""
   ]
  },
  {
   "cell_type": "code",
   "execution_count": null,
   "metadata": {},
   "outputs": [],
   "source": [
    "len(xddf.split())"
   ]
  },
  {
   "cell_type": "code",
   "execution_count": null,
   "metadata": {},
   "outputs": [],
   "source": []
  }
 ],
 "metadata": {
  "kernelspec": {
   "display_name": "Python 3",
   "language": "python",
   "name": "python3"
  },
  "language_info": {
   "codemirror_mode": {
    "name": "ipython",
    "version": 3
   },
   "file_extension": ".py",
   "mimetype": "text/x-python",
   "name": "python",
   "nbconvert_exporter": "python",
   "pygments_lexer": "ipython3",
   "version": "3.6.7"
  }
 },
 "nbformat": 4,
 "nbformat_minor": 2
}
